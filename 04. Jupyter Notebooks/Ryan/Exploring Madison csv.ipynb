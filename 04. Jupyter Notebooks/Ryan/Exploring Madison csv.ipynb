{
 "cells": [
  {
   "cell_type": "code",
   "execution_count": 1,
   "metadata": {},
   "outputs": [],
   "source": [
    "import pandas as pd"
   ]
  },
  {
   "cell_type": "code",
   "execution_count": 2,
   "metadata": {},
   "outputs": [],
   "source": [
    "madison = pd.read_csv(\"Madison.csv\")"
   ]
  },
  {
   "cell_type": "code",
   "execution_count": 3,
   "metadata": {},
   "outputs": [
    {
     "data": {
      "text/plain": [
       "3680"
      ]
     },
     "execution_count": 3,
     "metadata": {},
     "output_type": "execute_result"
    }
   ],
   "source": [
    "len(madison)"
   ]
  },
  {
   "cell_type": "code",
   "execution_count": 8,
   "metadata": {},
   "outputs": [
    {
     "data": {
      "text/html": [
       "<div>\n",
       "<style scoped>\n",
       "    .dataframe tbody tr th:only-of-type {\n",
       "        vertical-align: middle;\n",
       "    }\n",
       "\n",
       "    .dataframe tbody tr th {\n",
       "        vertical-align: top;\n",
       "    }\n",
       "\n",
       "    .dataframe thead th {\n",
       "        text-align: right;\n",
       "    }\n",
       "</style>\n",
       "<table border=\"1\" class=\"dataframe\">\n",
       "  <thead>\n",
       "    <tr style=\"text-align: right;\">\n",
       "      <th></th>\n",
       "      <th>Unnamed: 0</th>\n",
       "      <th>business_id</th>\n",
       "      <th>name</th>\n",
       "      <th>address</th>\n",
       "      <th>city</th>\n",
       "      <th>state</th>\n",
       "      <th>postal_code</th>\n",
       "      <th>latitude</th>\n",
       "      <th>longitude</th>\n",
       "      <th>stars</th>\n",
       "      <th>review_count</th>\n",
       "      <th>is_open</th>\n",
       "      <th>attributes</th>\n",
       "      <th>categories</th>\n",
       "      <th>hours</th>\n",
       "      <th>Restaurant</th>\n",
       "      <th>Food</th>\n",
       "    </tr>\n",
       "  </thead>\n",
       "  <tbody>\n",
       "    <tr>\n",
       "      <th>0</th>\n",
       "      <td>185</td>\n",
       "      <td>ou3C2Cnot1gitNoQIu5Uag</td>\n",
       "      <td>Walgreens</td>\n",
       "      <td>3700 University Ave</td>\n",
       "      <td>Madison</td>\n",
       "      <td>WI</td>\n",
       "      <td>53705.0</td>\n",
       "      <td>43.075910</td>\n",
       "      <td>-89.450506</td>\n",
       "      <td>2.5</td>\n",
       "      <td>15</td>\n",
       "      <td>1</td>\n",
       "      <td>{'BusinessAcceptsCreditCards': 'True', 'Caters...</td>\n",
       "      <td>Cosmetics &amp; Beauty Supply, Beauty &amp; Spas, Conv...</td>\n",
       "      <td>{'Monday': '7:0-23:0', 'Tuesday': '7:0-23:0', ...</td>\n",
       "      <td>False</td>\n",
       "      <td>False</td>\n",
       "    </tr>\n",
       "    <tr>\n",
       "      <th>1</th>\n",
       "      <td>251</td>\n",
       "      <td>1_VZR-M44VcvKVrfAyyZAA</td>\n",
       "      <td>Bethesda Thrift Shop</td>\n",
       "      <td>201 Cottage Grove Rd</td>\n",
       "      <td>Madison</td>\n",
       "      <td>WI</td>\n",
       "      <td>53716.0</td>\n",
       "      <td>43.083270</td>\n",
       "      <td>-89.323659</td>\n",
       "      <td>4.0</td>\n",
       "      <td>4</td>\n",
       "      <td>0</td>\n",
       "      <td>{'BusinessAcceptsCreditCards': 'True', 'Busine...</td>\n",
       "      <td>Shopping, Thrift Stores</td>\n",
       "      <td>{'Monday': '9:0-18:0', 'Tuesday': '9:0-18:0', ...</td>\n",
       "      <td>False</td>\n",
       "      <td>False</td>\n",
       "    </tr>\n",
       "    <tr>\n",
       "      <th>2</th>\n",
       "      <td>270</td>\n",
       "      <td>Rfu2hW3nRqe6eL0YbUQV7g</td>\n",
       "      <td>Wanda Roche &amp; Associates</td>\n",
       "      <td>NaN</td>\n",
       "      <td>Madison</td>\n",
       "      <td>WI</td>\n",
       "      <td>53717.0</td>\n",
       "      <td>43.071886</td>\n",
       "      <td>-89.516730</td>\n",
       "      <td>5.0</td>\n",
       "      <td>6</td>\n",
       "      <td>1</td>\n",
       "      <td>{'BusinessAcceptsCreditCards': 'False'}</td>\n",
       "      <td>Real Estate Agents, Home Services, Real Estate...</td>\n",
       "      <td>{'Monday': '8:30-17:30', 'Tuesday': '8:30-17:3...</td>\n",
       "      <td>False</td>\n",
       "      <td>False</td>\n",
       "    </tr>\n",
       "    <tr>\n",
       "      <th>3</th>\n",
       "      <td>299</td>\n",
       "      <td>2mOTYP7Fc77oIIMQglAY6A</td>\n",
       "      <td>Madison Modern Market</td>\n",
       "      <td>310 State St</td>\n",
       "      <td>Madison</td>\n",
       "      <td>WI</td>\n",
       "      <td>53703.0</td>\n",
       "      <td>43.074904</td>\n",
       "      <td>-89.390533</td>\n",
       "      <td>5.0</td>\n",
       "      <td>9</td>\n",
       "      <td>1</td>\n",
       "      <td>{'BikeParking': 'True', 'RestaurantsPriceRange...</td>\n",
       "      <td>Kitchen &amp; Bath, Home &amp; Garden, Gift Shops, Sho...</td>\n",
       "      <td>{'Monday': '11:0-19:0', 'Tuesday': '11:0-19:0'...</td>\n",
       "      <td>False</td>\n",
       "      <td>False</td>\n",
       "    </tr>\n",
       "    <tr>\n",
       "      <th>4</th>\n",
       "      <td>333</td>\n",
       "      <td>q8967a_rhSOwVI0olMNJqw</td>\n",
       "      <td>Rupert Cornelius</td>\n",
       "      <td>1717 Monroe St</td>\n",
       "      <td>Madison</td>\n",
       "      <td>WI</td>\n",
       "      <td>53711.0</td>\n",
       "      <td>43.065615</td>\n",
       "      <td>-89.415652</td>\n",
       "      <td>4.0</td>\n",
       "      <td>8</td>\n",
       "      <td>1</td>\n",
       "      <td>{'RestaurantsPriceRange2': '3', 'BusinessParki...</td>\n",
       "      <td>Women's Clothing, Accessories, Shopping, Fashion</td>\n",
       "      <td>{'Wednesday': '10:0-17:0', 'Thursday': '10:0-1...</td>\n",
       "      <td>False</td>\n",
       "      <td>False</td>\n",
       "    </tr>\n",
       "  </tbody>\n",
       "</table>\n",
       "</div>"
      ],
      "text/plain": [
       "   Unnamed: 0             business_id                      name  \\\n",
       "0         185  ou3C2Cnot1gitNoQIu5Uag                 Walgreens   \n",
       "1         251  1_VZR-M44VcvKVrfAyyZAA      Bethesda Thrift Shop   \n",
       "2         270  Rfu2hW3nRqe6eL0YbUQV7g  Wanda Roche & Associates   \n",
       "3         299  2mOTYP7Fc77oIIMQglAY6A     Madison Modern Market   \n",
       "4         333  q8967a_rhSOwVI0olMNJqw          Rupert Cornelius   \n",
       "\n",
       "                address     city state  postal_code   latitude  longitude  \\\n",
       "0   3700 University Ave  Madison    WI      53705.0  43.075910 -89.450506   \n",
       "1  201 Cottage Grove Rd  Madison    WI      53716.0  43.083270 -89.323659   \n",
       "2                   NaN  Madison    WI      53717.0  43.071886 -89.516730   \n",
       "3          310 State St  Madison    WI      53703.0  43.074904 -89.390533   \n",
       "4        1717 Monroe St  Madison    WI      53711.0  43.065615 -89.415652   \n",
       "\n",
       "   stars  review_count  is_open  \\\n",
       "0    2.5            15        1   \n",
       "1    4.0             4        0   \n",
       "2    5.0             6        1   \n",
       "3    5.0             9        1   \n",
       "4    4.0             8        1   \n",
       "\n",
       "                                          attributes  \\\n",
       "0  {'BusinessAcceptsCreditCards': 'True', 'Caters...   \n",
       "1  {'BusinessAcceptsCreditCards': 'True', 'Busine...   \n",
       "2            {'BusinessAcceptsCreditCards': 'False'}   \n",
       "3  {'BikeParking': 'True', 'RestaurantsPriceRange...   \n",
       "4  {'RestaurantsPriceRange2': '3', 'BusinessParki...   \n",
       "\n",
       "                                          categories  \\\n",
       "0  Cosmetics & Beauty Supply, Beauty & Spas, Conv...   \n",
       "1                            Shopping, Thrift Stores   \n",
       "2  Real Estate Agents, Home Services, Real Estate...   \n",
       "3  Kitchen & Bath, Home & Garden, Gift Shops, Sho...   \n",
       "4   Women's Clothing, Accessories, Shopping, Fashion   \n",
       "\n",
       "                                               hours  Restaurant   Food  \n",
       "0  {'Monday': '7:0-23:0', 'Tuesday': '7:0-23:0', ...       False  False  \n",
       "1  {'Monday': '9:0-18:0', 'Tuesday': '9:0-18:0', ...       False  False  \n",
       "2  {'Monday': '8:30-17:30', 'Tuesday': '8:30-17:3...       False  False  \n",
       "3  {'Monday': '11:0-19:0', 'Tuesday': '11:0-19:0'...       False  False  \n",
       "4  {'Wednesday': '10:0-17:0', 'Thursday': '10:0-1...       False  False  "
      ]
     },
     "execution_count": 8,
     "metadata": {},
     "output_type": "execute_result"
    }
   ],
   "source": [
    "madison.head()"
   ]
  },
  {
   "cell_type": "code",
   "execution_count": 3,
   "metadata": {},
   "outputs": [],
   "source": [
    "mad_rest = madison[madison['Restaurant']]"
   ]
  },
  {
   "cell_type": "code",
   "execution_count": 13,
   "metadata": {},
   "outputs": [
    {
     "data": {
      "text/plain": [
       "1175"
      ]
     },
     "execution_count": 13,
     "metadata": {},
     "output_type": "execute_result"
    }
   ],
   "source": [
    "len(mad_rest)"
   ]
  },
  {
   "cell_type": "code",
   "execution_count": 4,
   "metadata": {},
   "outputs": [
    {
     "data": {
      "text/html": [
       "<div>\n",
       "<style scoped>\n",
       "    .dataframe tbody tr th:only-of-type {\n",
       "        vertical-align: middle;\n",
       "    }\n",
       "\n",
       "    .dataframe tbody tr th {\n",
       "        vertical-align: top;\n",
       "    }\n",
       "\n",
       "    .dataframe thead th {\n",
       "        text-align: right;\n",
       "    }\n",
       "</style>\n",
       "<table border=\"1\" class=\"dataframe\">\n",
       "  <thead>\n",
       "    <tr style=\"text-align: right;\">\n",
       "      <th></th>\n",
       "      <th>Unnamed: 0</th>\n",
       "      <th>business_id</th>\n",
       "      <th>name</th>\n",
       "      <th>address</th>\n",
       "      <th>city</th>\n",
       "      <th>state</th>\n",
       "      <th>postal_code</th>\n",
       "      <th>latitude</th>\n",
       "      <th>longitude</th>\n",
       "      <th>stars</th>\n",
       "      <th>review_count</th>\n",
       "      <th>is_open</th>\n",
       "      <th>attributes</th>\n",
       "      <th>categories</th>\n",
       "      <th>hours</th>\n",
       "      <th>Restaurant</th>\n",
       "      <th>Food</th>\n",
       "    </tr>\n",
       "  </thead>\n",
       "  <tbody>\n",
       "    <tr>\n",
       "      <th>6</th>\n",
       "      <td>387</td>\n",
       "      <td>1BQzXcXFxR6MlVIYmG93kw</td>\n",
       "      <td>Zandru's</td>\n",
       "      <td>419 State St</td>\n",
       "      <td>Madison</td>\n",
       "      <td>WI</td>\n",
       "      <td>53703.0</td>\n",
       "      <td>43.074724</td>\n",
       "      <td>-89.392598</td>\n",
       "      <td>3.5</td>\n",
       "      <td>22</td>\n",
       "      <td>0</td>\n",
       "      <td>{'RestaurantsGoodForGroups': 'True', 'Restaura...</td>\n",
       "      <td>Spanish, Tapas Bars, Mediterranean, Restaurant...</td>\n",
       "      <td>{'Tuesday': '11:0-23:0', 'Wednesday': '11:0-23...</td>\n",
       "      <td>True</td>\n",
       "      <td>True</td>\n",
       "    </tr>\n",
       "    <tr>\n",
       "      <th>8</th>\n",
       "      <td>463</td>\n",
       "      <td>Iq1P8S3--gqd50xoQJxpqA</td>\n",
       "      <td>Blended</td>\n",
       "      <td>717 Hilldale Way</td>\n",
       "      <td>Madison</td>\n",
       "      <td>WI</td>\n",
       "      <td>53705.0</td>\n",
       "      <td>43.072930</td>\n",
       "      <td>-89.453214</td>\n",
       "      <td>4.5</td>\n",
       "      <td>65</td>\n",
       "      <td>1</td>\n",
       "      <td>{'BikeParking': 'True', 'HasTV': 'False', 'Res...</td>\n",
       "      <td>Gluten-Free, Specialty Food, Fruits &amp; Veggies,...</td>\n",
       "      <td>{'Monday': '8:0-19:0', 'Tuesday': '8:0-19:0', ...</td>\n",
       "      <td>True</td>\n",
       "      <td>True</td>\n",
       "    </tr>\n",
       "    <tr>\n",
       "      <th>31</th>\n",
       "      <td>2218</td>\n",
       "      <td>nsw3tlB-hwz4KbPYcuaSww</td>\n",
       "      <td>Novanta</td>\n",
       "      <td>8452 Old Sauk Rd</td>\n",
       "      <td>Madison</td>\n",
       "      <td>WI</td>\n",
       "      <td>53562.0</td>\n",
       "      <td>43.075373</td>\n",
       "      <td>-89.529627</td>\n",
       "      <td>4.5</td>\n",
       "      <td>250</td>\n",
       "      <td>1</td>\n",
       "      <td>{'Ambience': \"{'romantic': False, 'intimate': ...</td>\n",
       "      <td>Mediterranean, Pizza, American (New), Restaura...</td>\n",
       "      <td>{'Monday': '0:0-0:0', 'Tuesday': '11:0-21:0', ...</td>\n",
       "      <td>True</td>\n",
       "      <td>True</td>\n",
       "    </tr>\n",
       "    <tr>\n",
       "      <th>32</th>\n",
       "      <td>2266</td>\n",
       "      <td>cprIQ1e2be5LD7jpPEyiSw</td>\n",
       "      <td>McDonald's</td>\n",
       "      <td>3051 E Washington Ave</td>\n",
       "      <td>Madison</td>\n",
       "      <td>WI</td>\n",
       "      <td>53704.0</td>\n",
       "      <td>43.104087</td>\n",
       "      <td>-89.340903</td>\n",
       "      <td>3.0</td>\n",
       "      <td>7</td>\n",
       "      <td>0</td>\n",
       "      <td>{'WiFi': \"u'free'\", 'OutdoorSeating': 'False',...</td>\n",
       "      <td>Burgers, Restaurants, Fast Food</td>\n",
       "      <td>NaN</td>\n",
       "      <td>True</td>\n",
       "      <td>True</td>\n",
       "    </tr>\n",
       "    <tr>\n",
       "      <th>37</th>\n",
       "      <td>2531</td>\n",
       "      <td>6yE-QYVLXMZ2DuJmWecjlg</td>\n",
       "      <td>Asian Noodle</td>\n",
       "      <td>902 Regent St</td>\n",
       "      <td>Madison</td>\n",
       "      <td>WI</td>\n",
       "      <td>53715.0</td>\n",
       "      <td>43.067819</td>\n",
       "      <td>-89.401317</td>\n",
       "      <td>4.5</td>\n",
       "      <td>10</td>\n",
       "      <td>1</td>\n",
       "      <td>{'Ambience': \"{'touristy': False, 'hipster': F...</td>\n",
       "      <td>Restaurants, Asian Fusion, Noodles</td>\n",
       "      <td>{'Monday': '0:0-0:0', 'Tuesday': '11:0-22:0', ...</td>\n",
       "      <td>True</td>\n",
       "      <td>True</td>\n",
       "    </tr>\n",
       "  </tbody>\n",
       "</table>\n",
       "</div>"
      ],
      "text/plain": [
       "    Unnamed: 0             business_id          name                address  \\\n",
       "6          387  1BQzXcXFxR6MlVIYmG93kw      Zandru's           419 State St   \n",
       "8          463  Iq1P8S3--gqd50xoQJxpqA       Blended       717 Hilldale Way   \n",
       "31        2218  nsw3tlB-hwz4KbPYcuaSww       Novanta       8452 Old Sauk Rd   \n",
       "32        2266  cprIQ1e2be5LD7jpPEyiSw    McDonald's  3051 E Washington Ave   \n",
       "37        2531  6yE-QYVLXMZ2DuJmWecjlg  Asian Noodle          902 Regent St   \n",
       "\n",
       "       city state  postal_code   latitude  longitude  stars  review_count  \\\n",
       "6   Madison    WI      53703.0  43.074724 -89.392598    3.5            22   \n",
       "8   Madison    WI      53705.0  43.072930 -89.453214    4.5            65   \n",
       "31  Madison    WI      53562.0  43.075373 -89.529627    4.5           250   \n",
       "32  Madison    WI      53704.0  43.104087 -89.340903    3.0             7   \n",
       "37  Madison    WI      53715.0  43.067819 -89.401317    4.5            10   \n",
       "\n",
       "    is_open                                         attributes  \\\n",
       "6         0  {'RestaurantsGoodForGroups': 'True', 'Restaura...   \n",
       "8         1  {'BikeParking': 'True', 'HasTV': 'False', 'Res...   \n",
       "31        1  {'Ambience': \"{'romantic': False, 'intimate': ...   \n",
       "32        0  {'WiFi': \"u'free'\", 'OutdoorSeating': 'False',...   \n",
       "37        1  {'Ambience': \"{'touristy': False, 'hipster': F...   \n",
       "\n",
       "                                           categories  \\\n",
       "6   Spanish, Tapas Bars, Mediterranean, Restaurant...   \n",
       "8   Gluten-Free, Specialty Food, Fruits & Veggies,...   \n",
       "31  Mediterranean, Pizza, American (New), Restaura...   \n",
       "32                    Burgers, Restaurants, Fast Food   \n",
       "37                 Restaurants, Asian Fusion, Noodles   \n",
       "\n",
       "                                                hours  Restaurant  Food  \n",
       "6   {'Tuesday': '11:0-23:0', 'Wednesday': '11:0-23...        True  True  \n",
       "8   {'Monday': '8:0-19:0', 'Tuesday': '8:0-19:0', ...        True  True  \n",
       "31  {'Monday': '0:0-0:0', 'Tuesday': '11:0-21:0', ...        True  True  \n",
       "32                                                NaN        True  True  \n",
       "37  {'Monday': '0:0-0:0', 'Tuesday': '11:0-22:0', ...        True  True  "
      ]
     },
     "execution_count": 4,
     "metadata": {},
     "output_type": "execute_result"
    }
   ],
   "source": [
    "mad_rest.head()"
   ]
  },
  {
   "cell_type": "code",
   "execution_count": 5,
   "metadata": {},
   "outputs": [
    {
     "data": {
      "text/html": [
       "<div>\n",
       "<style scoped>\n",
       "    .dataframe tbody tr th:only-of-type {\n",
       "        vertical-align: middle;\n",
       "    }\n",
       "\n",
       "    .dataframe tbody tr th {\n",
       "        vertical-align: top;\n",
       "    }\n",
       "\n",
       "    .dataframe thead th {\n",
       "        text-align: right;\n",
       "    }\n",
       "</style>\n",
       "<table border=\"1\" class=\"dataframe\">\n",
       "  <thead>\n",
       "    <tr style=\"text-align: right;\">\n",
       "      <th></th>\n",
       "      <th>Unnamed: 0</th>\n",
       "      <th>postal_code</th>\n",
       "      <th>latitude</th>\n",
       "      <th>longitude</th>\n",
       "      <th>stars</th>\n",
       "      <th>review_count</th>\n",
       "      <th>is_open</th>\n",
       "    </tr>\n",
       "  </thead>\n",
       "  <tbody>\n",
       "    <tr>\n",
       "      <th>count</th>\n",
       "      <td>1175.000000</td>\n",
       "      <td>1173.000000</td>\n",
       "      <td>1175.000000</td>\n",
       "      <td>1175.000000</td>\n",
       "      <td>1175.000000</td>\n",
       "      <td>1175.000000</td>\n",
       "      <td>1175.000000</td>\n",
       "    </tr>\n",
       "    <tr>\n",
       "      <th>mean</th>\n",
       "      <td>104391.087660</td>\n",
       "      <td>53707.740835</td>\n",
       "      <td>43.076863</td>\n",
       "      <td>-89.398826</td>\n",
       "      <td>3.513617</td>\n",
       "      <td>68.771915</td>\n",
       "      <td>0.630638</td>\n",
       "    </tr>\n",
       "    <tr>\n",
       "      <th>std</th>\n",
       "      <td>60290.594697</td>\n",
       "      <td>20.358083</td>\n",
       "      <td>0.023830</td>\n",
       "      <td>0.059950</td>\n",
       "      <td>0.767073</td>\n",
       "      <td>112.421833</td>\n",
       "      <td>0.482837</td>\n",
       "    </tr>\n",
       "    <tr>\n",
       "      <th>min</th>\n",
       "      <td>387.000000</td>\n",
       "      <td>53175.000000</td>\n",
       "      <td>43.006193</td>\n",
       "      <td>-89.563016</td>\n",
       "      <td>1.000000</td>\n",
       "      <td>3.000000</td>\n",
       "      <td>0.000000</td>\n",
       "    </tr>\n",
       "    <tr>\n",
       "      <th>25%</th>\n",
       "      <td>52661.500000</td>\n",
       "      <td>53703.000000</td>\n",
       "      <td>43.064931</td>\n",
       "      <td>-89.425883</td>\n",
       "      <td>3.000000</td>\n",
       "      <td>11.000000</td>\n",
       "      <td>0.000000</td>\n",
       "    </tr>\n",
       "    <tr>\n",
       "      <th>50%</th>\n",
       "      <td>101816.000000</td>\n",
       "      <td>53704.000000</td>\n",
       "      <td>43.074680</td>\n",
       "      <td>-89.393128</td>\n",
       "      <td>3.500000</td>\n",
       "      <td>30.000000</td>\n",
       "      <td>1.000000</td>\n",
       "    </tr>\n",
       "    <tr>\n",
       "      <th>75%</th>\n",
       "      <td>157247.000000</td>\n",
       "      <td>53715.000000</td>\n",
       "      <td>43.082564</td>\n",
       "      <td>-89.365380</td>\n",
       "      <td>4.000000</td>\n",
       "      <td>81.000000</td>\n",
       "      <td>1.000000</td>\n",
       "    </tr>\n",
       "    <tr>\n",
       "      <th>max</th>\n",
       "      <td>209381.000000</td>\n",
       "      <td>53774.000000</td>\n",
       "      <td>43.182376</td>\n",
       "      <td>-89.211435</td>\n",
       "      <td>5.000000</td>\n",
       "      <td>1879.000000</td>\n",
       "      <td>1.000000</td>\n",
       "    </tr>\n",
       "  </tbody>\n",
       "</table>\n",
       "</div>"
      ],
      "text/plain": [
       "          Unnamed: 0   postal_code     latitude    longitude        stars  \\\n",
       "count    1175.000000   1173.000000  1175.000000  1175.000000  1175.000000   \n",
       "mean   104391.087660  53707.740835    43.076863   -89.398826     3.513617   \n",
       "std     60290.594697     20.358083     0.023830     0.059950     0.767073   \n",
       "min       387.000000  53175.000000    43.006193   -89.563016     1.000000   \n",
       "25%     52661.500000  53703.000000    43.064931   -89.425883     3.000000   \n",
       "50%    101816.000000  53704.000000    43.074680   -89.393128     3.500000   \n",
       "75%    157247.000000  53715.000000    43.082564   -89.365380     4.000000   \n",
       "max    209381.000000  53774.000000    43.182376   -89.211435     5.000000   \n",
       "\n",
       "       review_count      is_open  \n",
       "count   1175.000000  1175.000000  \n",
       "mean      68.771915     0.630638  \n",
       "std      112.421833     0.482837  \n",
       "min        3.000000     0.000000  \n",
       "25%       11.000000     0.000000  \n",
       "50%       30.000000     1.000000  \n",
       "75%       81.000000     1.000000  \n",
       "max     1879.000000     1.000000  "
      ]
     },
     "execution_count": 5,
     "metadata": {},
     "output_type": "execute_result"
    }
   ],
   "source": [
    "mad_rest.describe()"
   ]
  },
  {
   "cell_type": "markdown",
   "metadata": {},
   "source": [
    "Only 63% of the resturants are open."
   ]
  },
  {
   "cell_type": "code",
   "execution_count": 18,
   "metadata": {},
   "outputs": [
    {
     "data": {
      "text/plain": [
       "160"
      ]
     },
     "execution_count": 18,
     "metadata": {},
     "output_type": "execute_result"
    }
   ],
   "source": [
    "len(mad_rest) - len(list(set(mad_rest['name'])))"
   ]
  },
  {
   "cell_type": "markdown",
   "metadata": {},
   "source": [
    "160 resturants are repeats"
   ]
  },
  {
   "cell_type": "markdown",
   "metadata": {},
   "source": [
    "Star rating average at 3.5 seems reasonable."
   ]
  },
  {
   "cell_type": "code",
   "execution_count": 8,
   "metadata": {},
   "outputs": [
    {
     "data": {
      "text/plain": [
       "<matplotlib.axes._subplots.AxesSubplot at 0x7f00967f1f28>"
      ]
     },
     "execution_count": 8,
     "metadata": {},
     "output_type": "execute_result"
    },
    {
     "data": {
      "image/png": "[encoded data removed]",
      "text/plain": [
       "<Figure size 432x288 with 1 Axes>"
      ]
     },
     "metadata": {
      "needs_background": "light"
     },
     "output_type": "display_data"
    }
   ],
   "source": [
    "mad_rest.groupby('stars').size().reset_index().plot.bar(x='stars')"
   ]
  },
  {
   "cell_type": "code",
   "execution_count": 11,
   "metadata": {},
   "outputs": [
    {
     "data": {
      "text/plain": [
       "name\n",
       "Milio's Sandwiches              12\n",
       "McDonald's                      11\n",
       "Subway Restaurants              10\n",
       "Taco Bell                        8\n",
       "Pizza Hut                        6\n",
       "Panera Bread                     5\n",
       "Rocky Rococo Pan Style Pizza     5\n",
       "QDOBA Mexican Eats               5\n",
       "Culver's                         5\n",
       "Jimmy John's                     5\n",
       "dtype: int64"
      ]
     },
     "execution_count": 11,
     "metadata": {},
     "output_type": "execute_result"
    }
   ],
   "source": [
    "mad_rest.groupby('name').size().sort_values(ascending=False).iloc[:10]"
   ]
  },
  {
   "cell_type": "code",
   "execution_count": 12,
   "metadata": {},
   "outputs": [
    {
     "data": {
      "text/plain": [
       "80807"
      ]
     },
     "execution_count": 12,
     "metadata": {},
     "output_type": "execute_result"
    }
   ],
   "source": [
    "mad_rest['review_count'].sum()"
   ]
  },
  {
   "cell_type": "code",
   "execution_count": null,
   "metadata": {},
   "outputs": [],
   "source": []
  }
 ],
 "metadata": {
  "kernelspec": {
   "display_name": "Python 3",
   "language": "python",
   "name": "python3"
  },
  "language_info": {
   "codemirror_mode": {
    "name": "ipython",
    "version": 3
   },
   "file_extension": ".py",
   "mimetype": "text/x-python",
   "name": "python",
   "nbconvert_exporter": "python",
   "pygments_lexer": "ipython3",
   "version": "3.6.7"
  }
 },
 "nbformat": 4,
 "nbformat_minor": 2
}
