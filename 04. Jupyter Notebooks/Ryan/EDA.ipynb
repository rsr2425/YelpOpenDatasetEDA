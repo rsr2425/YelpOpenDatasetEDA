{
 "cells": [
  {
   "cell_type": "code",
   "execution_count": 15,
   "metadata": {},
   "outputs": [],
   "source": [
    "import pandas as pd"
   ]
  },
  {
   "cell_type": "code",
   "execution_count": 12,
   "metadata": {},
   "outputs": [],
   "source": [
    "!rm \"../../02. Madison Subset/Madison_Reviews_Exp.csv\""
   ]
  },
  {
   "cell_type": "code",
   "execution_count": 16,
   "metadata": {},
   "outputs": [
    {
     "name": "stdout",
     "output_type": "stream",
     "text": [
      "Madison_BusinessIds.csv\t\t  Madison_Reviews.csv\r\n",
      "MadisonRestaurants_CheckIn.csv\t  Madison_UserIds_FromTipData.csv\r\n",
      "MadisonRestaurants.csv\t\t  MadisonUsersPartial.csv\r\n",
      "MadisonRestaurants_Tip_Check.csv  MadisonUsersPartial.xlsx\r\n",
      "MadisonRestaurants_Tip.csv\r\n"
     ]
    }
   ],
   "source": [
    "!ls \"../../02. Madison Subset\""
   ]
  },
  {
   "cell_type": "code",
   "execution_count": 18,
   "metadata": {},
   "outputs": [],
   "source": [
    "bdf = pd.read_csv(\"../../02. Madison Subset/MadisonRestaurants.csv\")\n",
    "rdf = pd.read_csv(\"../../02. Madison Subset/Madison_Reviews.csv\")"
   ]
  },
  {
   "cell_type": "code",
   "execution_count": 19,
   "metadata": {},
   "outputs": [],
   "source": [
    "df = bdf.merge(rdf, on=\"business_id\")"
   ]
  },
  {
   "cell_type": "code",
   "execution_count": 20,
   "metadata": {},
   "outputs": [
    {
     "data": {
      "text/html": [
       "<div>\n",
       "<style scoped>\n",
       "    .dataframe tbody tr th:only-of-type {\n",
       "        vertical-align: middle;\n",
       "    }\n",
       "\n",
       "    .dataframe tbody tr th {\n",
       "        vertical-align: top;\n",
       "    }\n",
       "\n",
       "    .dataframe thead th {\n",
       "        text-align: right;\n",
       "    }\n",
       "</style>\n",
       "<table border=\"1\" class=\"dataframe\">\n",
       "  <thead>\n",
       "    <tr style=\"text-align: right;\">\n",
       "      <th></th>\n",
       "      <th>Unnamed: 0_x</th>\n",
       "      <th>Unnamed: 0.1</th>\n",
       "      <th>business_id</th>\n",
       "      <th>name</th>\n",
       "      <th>address</th>\n",
       "      <th>city</th>\n",
       "      <th>state</th>\n",
       "      <th>postal_code</th>\n",
       "      <th>latitude</th>\n",
       "      <th>longitude</th>\n",
       "      <th>...</th>\n",
       "      <th>yelp_lifetime</th>\n",
       "      <th>Unnamed: 0_y</th>\n",
       "      <th>funny</th>\n",
       "      <th>useful</th>\n",
       "      <th>review_id</th>\n",
       "      <th>text</th>\n",
       "      <th>stars_y</th>\n",
       "      <th>date</th>\n",
       "      <th>user_id</th>\n",
       "      <th>cool</th>\n",
       "    </tr>\n",
       "  </thead>\n",
       "  <tbody>\n",
       "    <tr>\n",
       "      <th>0</th>\n",
       "      <td>0</td>\n",
       "      <td>387</td>\n",
       "      <td>1BQzXcXFxR6MlVIYmG93kw</td>\n",
       "      <td>Zandru's</td>\n",
       "      <td>419 State St</td>\n",
       "      <td>Madison</td>\n",
       "      <td>WI</td>\n",
       "      <td>53703.0</td>\n",
       "      <td>43.074724</td>\n",
       "      <td>-89.392598</td>\n",
       "      <td>...</td>\n",
       "      <td>0.649315</td>\n",
       "      <td>46</td>\n",
       "      <td>0</td>\n",
       "      <td>1</td>\n",
       "      <td>M55Dbvn7123F1eTxe1b7-Q</td>\n",
       "      <td>So far not impressed. Here for a bachelorette ...</td>\n",
       "      <td>1.0</td>\n",
       "      <td>2017-05-13 23:30:46</td>\n",
       "      <td>3tco9dK9yCqsNk6olGqkqw</td>\n",
       "      <td>0</td>\n",
       "    </tr>\n",
       "    <tr>\n",
       "      <th>1</th>\n",
       "      <td>0</td>\n",
       "      <td>387</td>\n",
       "      <td>1BQzXcXFxR6MlVIYmG93kw</td>\n",
       "      <td>Zandru's</td>\n",
       "      <td>419 State St</td>\n",
       "      <td>Madison</td>\n",
       "      <td>WI</td>\n",
       "      <td>53703.0</td>\n",
       "      <td>43.074724</td>\n",
       "      <td>-89.392598</td>\n",
       "      <td>...</td>\n",
       "      <td>0.649315</td>\n",
       "      <td>47</td>\n",
       "      <td>0</td>\n",
       "      <td>0</td>\n",
       "      <td>cOeYP-7lY2Kb_0MgUYO4Kg</td>\n",
       "      <td>Delicious, authentic Spanish food!  Friendly s...</td>\n",
       "      <td>5.0</td>\n",
       "      <td>2017-08-17 00:05:49</td>\n",
       "      <td>2m-KLSt4yC3zTTBcyv46Tw</td>\n",
       "      <td>0</td>\n",
       "    </tr>\n",
       "    <tr>\n",
       "      <th>2</th>\n",
       "      <td>0</td>\n",
       "      <td>387</td>\n",
       "      <td>1BQzXcXFxR6MlVIYmG93kw</td>\n",
       "      <td>Zandru's</td>\n",
       "      <td>419 State St</td>\n",
       "      <td>Madison</td>\n",
       "      <td>WI</td>\n",
       "      <td>53703.0</td>\n",
       "      <td>43.074724</td>\n",
       "      <td>-89.392598</td>\n",
       "      <td>...</td>\n",
       "      <td>0.649315</td>\n",
       "      <td>48</td>\n",
       "      <td>3</td>\n",
       "      <td>7</td>\n",
       "      <td>YVs9P-DoILfXq08UKwOaxA</td>\n",
       "      <td>With only one review in for the new Zandru's, ...</td>\n",
       "      <td>2.0</td>\n",
       "      <td>2017-04-20 14:40:55</td>\n",
       "      <td>8teQ4Zc9jpl_ffaPJUn6Ew</td>\n",
       "      <td>1</td>\n",
       "    </tr>\n",
       "    <tr>\n",
       "      <th>3</th>\n",
       "      <td>0</td>\n",
       "      <td>387</td>\n",
       "      <td>1BQzXcXFxR6MlVIYmG93kw</td>\n",
       "      <td>Zandru's</td>\n",
       "      <td>419 State St</td>\n",
       "      <td>Madison</td>\n",
       "      <td>WI</td>\n",
       "      <td>53703.0</td>\n",
       "      <td>43.074724</td>\n",
       "      <td>-89.392598</td>\n",
       "      <td>...</td>\n",
       "      <td>0.649315</td>\n",
       "      <td>49</td>\n",
       "      <td>0</td>\n",
       "      <td>0</td>\n",
       "      <td>RtIHX4mGwBPnJc8mC8wPtA</td>\n",
       "      <td>Great drinks! We just got the Spanish combinat...</td>\n",
       "      <td>5.0</td>\n",
       "      <td>2017-10-04 16:40:30</td>\n",
       "      <td>tm9jucB14wjhZZ00dNdsuQ</td>\n",
       "      <td>0</td>\n",
       "    </tr>\n",
       "    <tr>\n",
       "      <th>4</th>\n",
       "      <td>0</td>\n",
       "      <td>387</td>\n",
       "      <td>1BQzXcXFxR6MlVIYmG93kw</td>\n",
       "      <td>Zandru's</td>\n",
       "      <td>419 State St</td>\n",
       "      <td>Madison</td>\n",
       "      <td>WI</td>\n",
       "      <td>53703.0</td>\n",
       "      <td>43.074724</td>\n",
       "      <td>-89.392598</td>\n",
       "      <td>...</td>\n",
       "      <td>0.649315</td>\n",
       "      <td>50</td>\n",
       "      <td>0</td>\n",
       "      <td>1</td>\n",
       "      <td>c15Uor559lavT8N13NQLDw</td>\n",
       "      <td>I literally made this yelp account to warn eve...</td>\n",
       "      <td>1.0</td>\n",
       "      <td>2017-05-17 01:11:03</td>\n",
       "      <td>9Q45WYIP-ZHOVAZpYGFVpA</td>\n",
       "      <td>0</td>\n",
       "    </tr>\n",
       "  </tbody>\n",
       "</table>\n",
       "<p>5 rows × 28 columns</p>\n",
       "</div>"
      ],
      "text/plain": [
       "   Unnamed: 0_x  Unnamed: 0.1             business_id      name       address  \\\n",
       "0             0           387  1BQzXcXFxR6MlVIYmG93kw  Zandru's  419 State St   \n",
       "1             0           387  1BQzXcXFxR6MlVIYmG93kw  Zandru's  419 State St   \n",
       "2             0           387  1BQzXcXFxR6MlVIYmG93kw  Zandru's  419 State St   \n",
       "3             0           387  1BQzXcXFxR6MlVIYmG93kw  Zandru's  419 State St   \n",
       "4             0           387  1BQzXcXFxR6MlVIYmG93kw  Zandru's  419 State St   \n",
       "\n",
       "      city state  postal_code   latitude  longitude  ...  yelp_lifetime  \\\n",
       "0  Madison    WI      53703.0  43.074724 -89.392598  ...       0.649315   \n",
       "1  Madison    WI      53703.0  43.074724 -89.392598  ...       0.649315   \n",
       "2  Madison    WI      53703.0  43.074724 -89.392598  ...       0.649315   \n",
       "3  Madison    WI      53703.0  43.074724 -89.392598  ...       0.649315   \n",
       "4  Madison    WI      53703.0  43.074724 -89.392598  ...       0.649315   \n",
       "\n",
       "   Unnamed: 0_y  funny useful               review_id  \\\n",
       "0            46      0      1  M55Dbvn7123F1eTxe1b7-Q   \n",
       "1            47      0      0  cOeYP-7lY2Kb_0MgUYO4Kg   \n",
       "2            48      3      7  YVs9P-DoILfXq08UKwOaxA   \n",
       "3            49      0      0  RtIHX4mGwBPnJc8mC8wPtA   \n",
       "4            50      0      1  c15Uor559lavT8N13NQLDw   \n",
       "\n",
       "                                                text  stars_y  \\\n",
       "0  So far not impressed. Here for a bachelorette ...      1.0   \n",
       "1  Delicious, authentic Spanish food!  Friendly s...      5.0   \n",
       "2  With only one review in for the new Zandru's, ...      2.0   \n",
       "3  Great drinks! We just got the Spanish combinat...      5.0   \n",
       "4  I literally made this yelp account to warn eve...      1.0   \n",
       "\n",
       "                  date                 user_id  cool  \n",
       "0  2017-05-13 23:30:46  3tco9dK9yCqsNk6olGqkqw     0  \n",
       "1  2017-08-17 00:05:49  2m-KLSt4yC3zTTBcyv46Tw     0  \n",
       "2  2017-04-20 14:40:55  8teQ4Zc9jpl_ffaPJUn6Ew     1  \n",
       "3  2017-10-04 16:40:30  tm9jucB14wjhZZ00dNdsuQ     0  \n",
       "4  2017-05-17 01:11:03  9Q45WYIP-ZHOVAZpYGFVpA     0  \n",
       "\n",
       "[5 rows x 28 columns]"
      ]
     },
     "execution_count": 20,
     "metadata": {},
     "output_type": "execute_result"
    }
   ],
   "source": [
    "df.head()"
   ]
  },
  {
   "cell_type": "code",
   "execution_count": 30,
   "metadata": {},
   "outputs": [
    {
     "data": {
      "text/html": [
       "<div>\n",
       "<style scoped>\n",
       "    .dataframe tbody tr th:only-of-type {\n",
       "        vertical-align: middle;\n",
       "    }\n",
       "\n",
       "    .dataframe tbody tr th {\n",
       "        vertical-align: top;\n",
       "    }\n",
       "\n",
       "    .dataframe thead th {\n",
       "        text-align: right;\n",
       "    }\n",
       "</style>\n",
       "<table border=\"1\" class=\"dataframe\">\n",
       "  <thead>\n",
       "    <tr style=\"text-align: right;\">\n",
       "      <th></th>\n",
       "      <th>yelp_lifetime</th>\n",
       "    </tr>\n",
       "  </thead>\n",
       "  <tbody>\n",
       "    <tr>\n",
       "      <th>count</th>\n",
       "      <td>1175.000000</td>\n",
       "    </tr>\n",
       "    <tr>\n",
       "      <th>mean</th>\n",
       "      <td>6.308726</td>\n",
       "    </tr>\n",
       "    <tr>\n",
       "      <th>std</th>\n",
       "      <td>4.254870</td>\n",
       "    </tr>\n",
       "    <tr>\n",
       "      <th>min</th>\n",
       "      <td>0.041096</td>\n",
       "    </tr>\n",
       "    <tr>\n",
       "      <th>25%</th>\n",
       "      <td>2.575342</td>\n",
       "    </tr>\n",
       "    <tr>\n",
       "      <th>50%</th>\n",
       "      <td>5.682192</td>\n",
       "    </tr>\n",
       "    <tr>\n",
       "      <th>75%</th>\n",
       "      <td>9.872603</td>\n",
       "    </tr>\n",
       "    <tr>\n",
       "      <th>max</th>\n",
       "      <td>14.772603</td>\n",
       "    </tr>\n",
       "  </tbody>\n",
       "</table>\n",
       "</div>"
      ],
      "text/plain": [
       "       yelp_lifetime\n",
       "count    1175.000000\n",
       "mean        6.308726\n",
       "std         4.254870\n",
       "min         0.041096\n",
       "25%         2.575342\n",
       "50%         5.682192\n",
       "75%         9.872603\n",
       "max        14.772603"
      ]
     },
     "execution_count": 30,
     "metadata": {},
     "output_type": "execute_result"
    }
   ],
   "source": [
    "bdf[[\"yelp_lifetime\"]].describe()"
   ]
  },
  {
   "cell_type": "code",
   "execution_count": 21,
   "metadata": {},
   "outputs": [
    {
     "data": {
      "text/plain": [
       "Index(['Unnamed: 0', 'Unnamed: 0.1', 'business_id', 'name', 'address', 'city',\n",
       "       'state', 'postal_code', 'latitude', 'longitude', 'stars',\n",
       "       'review_count', 'is_open', 'attributes', 'categories', 'hours',\n",
       "       'Restaurant', 'Food', 'yelp_lifetime'],\n",
       "      dtype='object')"
      ]
     },
     "execution_count": 21,
     "metadata": {},
     "output_type": "execute_result"
    }
   ],
   "source": [
    "bdf.columns"
   ]
  },
  {
   "cell_type": "code",
   "execution_count": 31,
   "metadata": {},
   "outputs": [
    {
     "data": {
      "text/plain": [
       "<matplotlib.axes._subplots.AxesSubplot at 0x7fa2fd118390>"
      ]
     },
     "execution_count": 31,
     "metadata": {},
     "output_type": "execute_result"
    },
    {
     "data": {
      "image/png": "[encoded data removed]",
      "text/plain": [
       "<Figure size 432x288 with 1 Axes>"
      ]
     },
     "metadata": {
      "needs_background": "light"
     },
     "output_type": "display_data"
    }
   ],
   "source": [
    "bdf[\"yelp_lifetime\"].plot.hist()"
   ]
  },
  {
   "cell_type": "code",
   "execution_count": 55,
   "metadata": {},
   "outputs": [
    {
     "data": {
      "text/plain": [
       "is_open\n",
       "0    AxesSubplot(0.125,0.125;0.775x0.755)\n",
       "1    AxesSubplot(0.125,0.125;0.775x0.755)\n",
       "Name: yelp_lifetime, dtype: object"
      ]
     },
     "execution_count": 55,
     "metadata": {},
     "output_type": "execute_result"
    },
    {
     "data": {
      "image/png": "[encoded data removed]",
      "text/plain": [
       "<Figure size 432x288 with 1 Axes>"
      ]
     },
     "metadata": {
      "needs_background": "light"
     },
     "output_type": "display_data"
    }
   ],
   "source": [
    "bdf.groupby('is_open')[\"yelp_lifetime\"].plot.hist(alpha=0.4, legend=True)"
   ]
  },
  {
   "cell_type": "code",
   "execution_count": 40,
   "metadata": {
    "scrolled": true
   },
   "outputs": [
    {
     "data": {
      "text/plain": [
       "postal_code\n",
       "53702.0    12.589041\n",
       "53590.0    10.591781\n",
       "53705.0     7.225548\n",
       "53704.0     6.837605\n",
       "53715.0     6.711757\n",
       "53713.0     6.314240\n",
       "53718.0     6.299178\n",
       "53703.0     6.275954\n",
       "53711.0     6.073909\n",
       "53714.0     5.915479\n",
       "53716.0     5.843764\n",
       "53719.0     5.839308\n",
       "53717.0     5.581719\n",
       "53706.0     5.303787\n",
       "53562.0     5.139726\n",
       "53726.0     4.516895\n",
       "53175.0     3.786301\n",
       "53774.0     3.353425\n",
       "53593.0     2.317808\n",
       "53558.0     0.928767\n",
       "Name: yelp_lifetime, dtype: float64"
      ]
     },
     "execution_count": 40,
     "metadata": {},
     "output_type": "execute_result"
    }
   ],
   "source": [
    "bdf.groupby('postal_code').mean()[\"yelp_lifetime\"].sort_values(ascending=False)"
   ]
  },
  {
   "cell_type": "code",
   "execution_count": 41,
   "metadata": {},
   "outputs": [
    {
     "data": {
      "text/html": [
       "<div>\n",
       "<style scoped>\n",
       "    .dataframe tbody tr th:only-of-type {\n",
       "        vertical-align: middle;\n",
       "    }\n",
       "\n",
       "    .dataframe tbody tr th {\n",
       "        vertical-align: top;\n",
       "    }\n",
       "\n",
       "    .dataframe thead th {\n",
       "        text-align: right;\n",
       "    }\n",
       "</style>\n",
       "<table border=\"1\" class=\"dataframe\">\n",
       "  <thead>\n",
       "    <tr style=\"text-align: right;\">\n",
       "      <th></th>\n",
       "      <th>Unnamed: 0</th>\n",
       "      <th>Unnamed: 0.1</th>\n",
       "      <th>business_id</th>\n",
       "      <th>name</th>\n",
       "      <th>address</th>\n",
       "      <th>city</th>\n",
       "      <th>state</th>\n",
       "      <th>postal_code</th>\n",
       "      <th>latitude</th>\n",
       "      <th>longitude</th>\n",
       "      <th>stars</th>\n",
       "      <th>review_count</th>\n",
       "      <th>is_open</th>\n",
       "      <th>attributes</th>\n",
       "      <th>categories</th>\n",
       "      <th>hours</th>\n",
       "      <th>Restaurant</th>\n",
       "      <th>Food</th>\n",
       "      <th>yelp_lifetime</th>\n",
       "    </tr>\n",
       "  </thead>\n",
       "  <tbody>\n",
       "    <tr>\n",
       "      <th>1136</th>\n",
       "      <td>1136</td>\n",
       "      <td>202180</td>\n",
       "      <td>hLgjdl7CMmQ1T3oBcq3yNw</td>\n",
       "      <td>WeGo Waffles</td>\n",
       "      <td>NaN</td>\n",
       "      <td>Madison</td>\n",
       "      <td>WI</td>\n",
       "      <td>53558.0</td>\n",
       "      <td>43.007604</td>\n",
       "      <td>-89.294221</td>\n",
       "      <td>4.0</td>\n",
       "      <td>4</td>\n",
       "      <td>1</td>\n",
       "      <td>NaN</td>\n",
       "      <td>Waffles, Food Trucks, Food, Restaurants, Ameri...</td>\n",
       "      <td>NaN</td>\n",
       "      <td>True</td>\n",
       "      <td>True</td>\n",
       "      <td>0.928767</td>\n",
       "    </tr>\n",
       "  </tbody>\n",
       "</table>\n",
       "</div>"
      ],
      "text/plain": [
       "      Unnamed: 0  Unnamed: 0.1             business_id          name address  \\\n",
       "1136        1136        202180  hLgjdl7CMmQ1T3oBcq3yNw  WeGo Waffles     NaN   \n",
       "\n",
       "         city state  postal_code   latitude  longitude  stars  review_count  \\\n",
       "1136  Madison    WI      53558.0  43.007604 -89.294221    4.0             4   \n",
       "\n",
       "      is_open attributes                                         categories  \\\n",
       "1136        1        NaN  Waffles, Food Trucks, Food, Restaurants, Ameri...   \n",
       "\n",
       "     hours  Restaurant  Food  yelp_lifetime  \n",
       "1136   NaN        True  True       0.928767  "
      ]
     },
     "execution_count": 41,
     "metadata": {},
     "output_type": "execute_result"
    }
   ],
   "source": [
    "bdf[bdf[\"postal_code\"] == 53558]"
   ]
  },
  {
   "cell_type": "code",
   "execution_count": 44,
   "metadata": {},
   "outputs": [
    {
     "name": "stdout",
     "output_type": "stream",
     "text": [
      "0.5407620582479565\n",
      "6.958714715649647\n"
     ]
    }
   ],
   "source": [
    "print(bdf[bdf[\"yelp_lifetime\"] < 1][\"yelp_lifetime\"].mean())\n",
    "print(bdf[bdf[\"yelp_lifetime\"] >= 1][\"yelp_lifetime\"].mean())"
   ]
  },
  {
   "cell_type": "code",
   "execution_count": 45,
   "metadata": {},
   "outputs": [
    {
     "name": "stdout",
     "output_type": "stream",
     "text": [
      "119\n",
      "1056\n"
     ]
    }
   ],
   "source": [
    "print(bdf[bdf[\"yelp_lifetime\"] < 1][\"yelp_lifetime\"].count())\n",
    "print(bdf[bdf[\"yelp_lifetime\"] >= 1][\"yelp_lifetime\"].count())"
   ]
  },
  {
   "cell_type": "code",
   "execution_count": 50,
   "metadata": {},
   "outputs": [
    {
     "name": "stdout",
     "output_type": "stream",
     "text": [
      "71\n",
      "48\n",
      "363\n",
      "693\n"
     ]
    },
    {
     "name": "stderr",
     "output_type": "stream",
     "text": [
      "/opt/conda/lib/python3.6/site-packages/ipykernel_launcher.py:1: UserWarning: Boolean Series key will be reindexed to match DataFrame index.\n",
      "  \"\"\"Entry point for launching an IPython kernel.\n",
      "/opt/conda/lib/python3.6/site-packages/ipykernel_launcher.py:2: UserWarning: Boolean Series key will be reindexed to match DataFrame index.\n",
      "  \n",
      "/opt/conda/lib/python3.6/site-packages/ipykernel_launcher.py:3: UserWarning: Boolean Series key will be reindexed to match DataFrame index.\n",
      "  This is separate from the ipykernel package so we can avoid doing imports until\n",
      "/opt/conda/lib/python3.6/site-packages/ipykernel_launcher.py:4: UserWarning: Boolean Series key will be reindexed to match DataFrame index.\n",
      "  after removing the cwd from sys.path.\n"
     ]
    }
   ],
   "source": [
    "print(bdf[bdf[\"yelp_lifetime\"] < 1][bdf[\"is_open\"] == 0][\"yelp_lifetime\"].count())\n",
    "print(bdf[bdf[\"yelp_lifetime\"] < 1][bdf[\"is_open\"] == 1][\"yelp_lifetime\"].count())\n",
    "print(bdf[bdf[\"yelp_lifetime\"] >= 1][bdf[\"is_open\"] == 0][\"yelp_lifetime\"].count())\n",
    "print(bdf[bdf[\"yelp_lifetime\"] >= 1][bdf[\"is_open\"] == 1][\"yelp_lifetime\"].count())"
   ]
  },
  {
   "cell_type": "code",
   "execution_count": 53,
   "metadata": {},
   "outputs": [
    {
     "name": "stdout",
     "output_type": "stream",
     "text": [
      "0.5966386554621849\n",
      "0.34375\n"
     ]
    },
    {
     "name": "stderr",
     "output_type": "stream",
     "text": [
      "/opt/conda/lib/python3.6/site-packages/ipykernel_launcher.py:1: UserWarning: Boolean Series key will be reindexed to match DataFrame index.\n",
      "  \"\"\"Entry point for launching an IPython kernel.\n",
      "/opt/conda/lib/python3.6/site-packages/ipykernel_launcher.py:2: UserWarning: Boolean Series key will be reindexed to match DataFrame index.\n",
      "  \n"
     ]
    }
   ],
   "source": [
    "print(bdf[bdf[\"yelp_lifetime\"] < 1][bdf[\"is_open\"] == 0][\"yelp_lifetime\"].count() / bdf[bdf[\"yelp_lifetime\"] < 1][\"yelp_lifetime\"].count())\n",
    "print(bdf[bdf[\"yelp_lifetime\"] >= 1][bdf[\"is_open\"] == 0][\"yelp_lifetime\"].count()/ bdf[bdf[\"yelp_lifetime\"] >= 1][\"yelp_lifetime\"].count())"
   ]
  },
  {
   "cell_type": "code",
   "execution_count": null,
   "metadata": {},
   "outputs": [],
   "source": []
  }
 ],
 "metadata": {
  "kernelspec": {
   "display_name": "Python 3",
   "language": "python",
   "name": "python3"
  },
  "language_info": {
   "codemirror_mode": {
    "name": "ipython",
    "version": 3
   },
   "file_extension": ".py",
   "mimetype": "text/x-python",
   "name": "python",
   "nbconvert_exporter": "python",
   "pygments_lexer": "ipython3",
   "version": "3.6.7"
  }
 },
 "nbformat": 4,
 "nbformat_minor": 2
}
